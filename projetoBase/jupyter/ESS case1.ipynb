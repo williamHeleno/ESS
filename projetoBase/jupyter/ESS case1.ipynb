{
 "cells": [
  {
   "cell_type": "code",
   "execution_count": 1,
   "metadata": {},
   "outputs": [],
   "source": [
    "import findspark\n",
    "findspark.init()\n",
    "from pyspark.sql           import HiveContext\n",
    "from pyspark.sql.functions import *\n",
    "from pyspark.sql.types     import *\n",
    "from pyspark.sql import SparkSession\n",
    "import zipfile\n",
    "\n",
    "spark = SparkSession \\\n",
    "    .builder \\\n",
    "    .appName(\"Python Spark SQL basic example\") \\\n",
    "    .config(\"spark.some.config.option\", \"some-value\") \\\n",
    "    .getOrCreate()\n"
   ]
  },
  {
   "cell_type": "code",
   "execution_count": 2,
   "metadata": {},
   "outputs": [],
   "source": [
    "with zipfile.ZipFile(r\"C:\\Users\\bwwil\\Desktop\\Pessoas.zip\",\"r\") as zip_ref:\n",
    "    zip_ref.extractall(r\"C:\\Users\\bwwil\\Desktop\")"
   ]
  },
  {
   "cell_type": "code",
   "execution_count": 3,
   "metadata": {},
   "outputs": [],
   "source": [
    "dfPessoas = spark.read.csv(r\"C:\\Users\\bwwil\\Desktop\\Pessoas.csv\", header=True)"
   ]
  },
  {
   "cell_type": "code",
   "execution_count": 4,
   "metadata": {},
   "outputs": [
    {
     "name": "stdout",
     "output_type": "stream",
     "text": [
      "+-------+-----+----+\n",
      "|   nome|idade|sexo|\n",
      "+-------+-----+----+\n",
      "|  Bruno|   27|   M|\n",
      "|William|   27|   M|\n",
      "|Leticia|   22|   F|\n",
      "|Jessica|   28|   F|\n",
      "| Sophia|   24|   F|\n",
      "+-------+-----+----+\n",
      "\n"
     ]
    }
   ],
   "source": [
    "dfPessoas.show()"
   ]
  },
  {
   "cell_type": "code",
   "execution_count": null,
   "metadata": {},
   "outputs": [],
   "source": [
    "#DIRETORIO HDFS\n",
    "dfPessoas.write.parquet(\"/sistemas/ESS/Pessoas.parquet\")"
   ]
  }
 ],
 "metadata": {
  "kernelspec": {
   "display_name": "Python 3",
   "language": "python",
   "name": "python3"
  },
  "language_info": {
   "codemirror_mode": {
    "name": "ipython",
    "version": 3
   },
   "file_extension": ".py",
   "mimetype": "text/x-python",
   "name": "python",
   "nbconvert_exporter": "python",
   "pygments_lexer": "ipython3",
   "version": "3.8.5"
  }
 },
 "nbformat": 4,
 "nbformat_minor": 4
}
