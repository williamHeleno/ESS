{
 "cells": [
  {
   "cell_type": "code",
   "execution_count": 146,
   "metadata": {},
   "outputs": [],
   "source": [
    "import findspark\n",
    "findspark.init()\n",
    "from pyspark.sql           import HiveContext\n",
    "from pyspark.sql.functions import *\n",
    "from pyspark.sql.types     import *\n",
    "from pyspark.sql import SparkSession\n",
    "from pyspark import SparkContext\n",
    "import time\n",
    "import datetime\n",
    "import zipfile\n",
    "\n",
    "spark = SparkSession \\\n",
    "    .builder \\\n",
    "    .appName(\"Python Spark SQL basic example\") \\\n",
    "    .config(\"spark.some.config.option\", \"some-value\") \\\n",
    "    .getOrCreate()\n"
   ]
  },
  {
   "cell_type": "code",
   "execution_count": 147,
   "metadata": {},
   "outputs": [],
   "source": [
    "schema = StructType([\n",
    "    StructField(\"TRANSACAO\", StringType()),\n",
    "    StructField(\"MUNICIPIO\", StringType()),\n",
    "    StructField(\"ESTADO\", StringType()),\n",
    "    StructField(\"DATA_ATUALIZACAO\", StringType())\n",
    "])\n",
    "\n",
    "dfTransacao = spark.read.csv(r\"C:\\Users\\bwwil\\Desktop\\transacoes.csv\", header=True, schema=schema)"
   ]
  },
  {
   "cell_type": "code",
   "execution_count": 149,
   "metadata": {},
   "outputs": [],
   "source": [
    "dfTransacao = dfTransacao.withColumn(\"DATA_ATUALIZACAO\", lit(datetime.datetime.fromtimestamp(time.time())))"
   ]
  },
  {
   "cell_type": "code",
   "execution_count": 150,
   "metadata": {},
   "outputs": [],
   "source": [
    "dfTransacao = dfTransacao.groupBy(\"TRANSACAO\",\"MUNICIPIO\",\"ESTADO\").agg(max(\"DATA_ATUALIZACAO\").alias(\"DATA_ATUALIZACAO\"))\n",
    "dfTransacao = dfTransacao.orderBy(\"DATA_ATUALIZACAO\")"
   ]
  },
  {
   "cell_type": "code",
   "execution_count": 151,
   "metadata": {},
   "outputs": [
    {
     "name": "stdout",
     "output_type": "stream",
     "text": [
      "+---------+--------------+------+--------------------------+\n",
      "|TRANSACAO|MUNICIPIO     |ESTADO|DATA_ATUALIZACAO          |\n",
      "+---------+--------------+------+--------------------------+\n",
      "|7        |São Paulo     |SP    |2021-03-08 14:15:29.360731|\n",
      "|2        |São Paulo     |SP    |2021-03-08 14:15:29.360731|\n",
      "|4        |Rio de Janeiro|RJ    |2021-03-08 14:15:29.360731|\n",
      "|1        |São Paulo     |SP    |2021-03-08 14:15:29.360731|\n",
      "|6        |São Paulo     |SP    |2021-03-08 14:15:29.360731|\n",
      "|3        |São Roque     |SP    |2021-03-08 14:15:29.360731|\n",
      "|5        |São Bernardo  |SP    |2021-03-08 14:15:29.360731|\n",
      "+---------+--------------+------+--------------------------+\n",
      "\n"
     ]
    }
   ],
   "source": [
    "dfTransacao.show(truncate=False)"
   ]
  },
  {
   "cell_type": "code",
   "execution_count": null,
   "metadata": {},
   "outputs": [],
   "source": []
  }
 ],
 "metadata": {
  "kernelspec": {
   "display_name": "Python 3",
   "language": "python",
   "name": "python3"
  },
  "language_info": {
   "codemirror_mode": {
    "name": "ipython",
    "version": 3
   },
   "file_extension": ".py",
   "mimetype": "text/x-python",
   "name": "python",
   "nbconvert_exporter": "python",
   "pygments_lexer": "ipython3",
   "version": "3.8.5"
  }
 },
 "nbformat": 4,
 "nbformat_minor": 4
}
